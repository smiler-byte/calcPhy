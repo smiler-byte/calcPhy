{
 "cells": [
  {
   "cell_type": "code",
   "execution_count": 17,
   "id": "80d779f1-875d-418f-852d-989fd2d67e39",
   "metadata": {},
   "outputs": [],
   "source": [
    "import numpy as np\n",
    "import matplotlib.pyplot as plt\n",
    "from matplotlib.patches import Rectangle\n",
    "from tqdm import tqdm  # 进度条库"
   ]
  },
  {
   "cell_type": "code",
   "execution_count": 9,
   "id": "54d7ab60-be10-49cc-b567-550cb13ae261",
   "metadata": {},
   "outputs": [],
   "source": [
    "# 长宽400 400\n",
    "x = np.linspace(0, 1.0, 401)\n",
    "y = np.linspace(0, 1.0, 401)\n",
    "X, Y = np.meshgrid(x, y)\n",
    "T_1 = np.zeros_like(X)\n",
    "x_1 = np.linspace(0.005, 0.995, 399)  # 对应的x坐标数组，长度399\n",
    "q_1 = np.zeros_like(x_1)\n",
    "T_2 = np.zeros_like(X)\n",
    "q_2 = np.zeros_like(x_1)"
   ]
  },
  {
   "cell_type": "code",
   "execution_count": 10,
   "id": "ed2eb7d9-8804-433a-a23f-fdea736f7787",
   "metadata": {},
   "outputs": [
    {
     "data": {
      "text/plain": [
       "array([0.    , 0.0025, 0.005 , 0.0075, 0.01  , 0.0125, 0.015 , 0.0175,\n",
       "       0.02  , 0.0225, 0.025 , 0.0275, 0.03  , 0.0325, 0.035 , 0.0375,\n",
       "       0.04  , 0.0425, 0.045 , 0.0475, 0.05  , 0.0525, 0.055 , 0.0575,\n",
       "       0.06  , 0.0625, 0.065 , 0.0675, 0.07  , 0.0725, 0.075 , 0.0775,\n",
       "       0.08  , 0.0825, 0.085 , 0.0875, 0.09  , 0.0925, 0.095 , 0.0975,\n",
       "       0.1   , 0.1025, 0.105 , 0.1075, 0.11  , 0.1125, 0.115 , 0.1175,\n",
       "       0.12  , 0.1225, 0.125 , 0.1275, 0.13  , 0.1325, 0.135 , 0.1375,\n",
       "       0.14  , 0.1425, 0.145 , 0.1475, 0.15  , 0.1525, 0.155 , 0.1575,\n",
       "       0.16  , 0.1625, 0.165 , 0.1675, 0.17  , 0.1725, 0.175 , 0.1775,\n",
       "       0.18  , 0.1825, 0.185 , 0.1875, 0.19  , 0.1925, 0.195 , 0.1975,\n",
       "       0.2   , 0.2025, 0.205 , 0.2075, 0.21  , 0.2125, 0.215 , 0.2175,\n",
       "       0.22  , 0.2225, 0.225 , 0.2275, 0.23  , 0.2325, 0.235 , 0.2375,\n",
       "       0.24  , 0.2425, 0.245 , 0.2475, 0.25  , 0.2525, 0.255 , 0.2575,\n",
       "       0.26  , 0.2625, 0.265 , 0.2675, 0.27  , 0.2725, 0.275 , 0.2775,\n",
       "       0.28  , 0.2825, 0.285 , 0.2875, 0.29  , 0.2925, 0.295 , 0.2975,\n",
       "       0.3   , 0.3025, 0.305 , 0.3075, 0.31  , 0.3125, 0.315 , 0.3175,\n",
       "       0.32  , 0.3225, 0.325 , 0.3275, 0.33  , 0.3325, 0.335 , 0.3375,\n",
       "       0.34  , 0.3425, 0.345 , 0.3475, 0.35  , 0.3525, 0.355 , 0.3575,\n",
       "       0.36  , 0.3625, 0.365 , 0.3675, 0.37  , 0.3725, 0.375 , 0.3775,\n",
       "       0.38  , 0.3825, 0.385 , 0.3875, 0.39  , 0.3925, 0.395 , 0.3975,\n",
       "       0.4   , 0.4025, 0.405 , 0.4075, 0.41  , 0.4125, 0.415 , 0.4175,\n",
       "       0.42  , 0.4225, 0.425 , 0.4275, 0.43  , 0.4325, 0.435 , 0.4375,\n",
       "       0.44  , 0.4425, 0.445 , 0.4475, 0.45  , 0.4525, 0.455 , 0.4575,\n",
       "       0.46  , 0.4625, 0.465 , 0.4675, 0.47  , 0.4725, 0.475 , 0.4775,\n",
       "       0.48  , 0.4825, 0.485 , 0.4875, 0.49  , 0.4925, 0.495 , 0.4975,\n",
       "       0.5   , 0.5025, 0.505 , 0.5075, 0.51  , 0.5125, 0.515 , 0.5175,\n",
       "       0.52  , 0.5225, 0.525 , 0.5275, 0.53  , 0.5325, 0.535 , 0.5375,\n",
       "       0.54  , 0.5425, 0.545 , 0.5475, 0.55  , 0.5525, 0.555 , 0.5575,\n",
       "       0.56  , 0.5625, 0.565 , 0.5675, 0.57  , 0.5725, 0.575 , 0.5775,\n",
       "       0.58  , 0.5825, 0.585 , 0.5875, 0.59  , 0.5925, 0.595 , 0.5975,\n",
       "       0.6   , 0.6025, 0.605 , 0.6075, 0.61  , 0.6125, 0.615 , 0.6175,\n",
       "       0.62  , 0.6225, 0.625 , 0.6275, 0.63  , 0.6325, 0.635 , 0.6375,\n",
       "       0.64  , 0.6425, 0.645 , 0.6475, 0.65  , 0.6525, 0.655 , 0.6575,\n",
       "       0.66  , 0.6625, 0.665 , 0.6675, 0.67  , 0.6725, 0.675 , 0.6775,\n",
       "       0.68  , 0.6825, 0.685 , 0.6875, 0.69  , 0.6925, 0.695 , 0.6975,\n",
       "       0.7   , 0.7025, 0.705 , 0.7075, 0.71  , 0.7125, 0.715 , 0.7175,\n",
       "       0.72  , 0.7225, 0.725 , 0.7275, 0.73  , 0.7325, 0.735 , 0.7375,\n",
       "       0.74  , 0.7425, 0.745 , 0.7475, 0.75  , 0.7525, 0.755 , 0.7575,\n",
       "       0.76  , 0.7625, 0.765 , 0.7675, 0.77  , 0.7725, 0.775 , 0.7775,\n",
       "       0.78  , 0.7825, 0.785 , 0.7875, 0.79  , 0.7925, 0.795 , 0.7975,\n",
       "       0.8   , 0.8025, 0.805 , 0.8075, 0.81  , 0.8125, 0.815 , 0.8175,\n",
       "       0.82  , 0.8225, 0.825 , 0.8275, 0.83  , 0.8325, 0.835 , 0.8375,\n",
       "       0.84  , 0.8425, 0.845 , 0.8475, 0.85  , 0.8525, 0.855 , 0.8575,\n",
       "       0.86  , 0.8625, 0.865 , 0.8675, 0.87  , 0.8725, 0.875 , 0.8775,\n",
       "       0.88  , 0.8825, 0.885 , 0.8875, 0.89  , 0.8925, 0.895 , 0.8975,\n",
       "       0.9   , 0.9025, 0.905 , 0.9075, 0.91  , 0.9125, 0.915 , 0.9175,\n",
       "       0.92  , 0.9225, 0.925 , 0.9275, 0.93  , 0.9325, 0.935 , 0.9375,\n",
       "       0.94  , 0.9425, 0.945 , 0.9475, 0.95  , 0.9525, 0.955 , 0.9575,\n",
       "       0.96  , 0.9625, 0.965 , 0.9675, 0.97  , 0.9725, 0.975 , 0.9775,\n",
       "       0.98  , 0.9825, 0.985 , 0.9875, 0.99  , 0.9925, 0.995 , 0.9975,\n",
       "       1.    ])"
      ]
     },
     "execution_count": 10,
     "metadata": {},
     "output_type": "execute_result"
    }
   ],
   "source": [
    "x"
   ]
  },
  {
   "cell_type": "code",
   "execution_count": 11,
   "id": "7b7cdc41-8668-4f88-b061-99c13178a6ff",
   "metadata": {},
   "outputs": [
    {
     "data": {
      "text/plain": [
       "array([0.    , 0.0025, 0.005 , 0.0075, 0.01  , 0.0125, 0.015 , 0.0175,\n",
       "       0.02  , 0.0225, 0.025 , 0.0275, 0.03  , 0.0325, 0.035 , 0.0375,\n",
       "       0.04  , 0.0425, 0.045 , 0.0475, 0.05  , 0.0525, 0.055 , 0.0575,\n",
       "       0.06  , 0.0625, 0.065 , 0.0675, 0.07  , 0.0725, 0.075 , 0.0775,\n",
       "       0.08  , 0.0825, 0.085 , 0.0875, 0.09  , 0.0925, 0.095 , 0.0975,\n",
       "       0.1   , 0.1025, 0.105 , 0.1075, 0.11  , 0.1125, 0.115 , 0.1175,\n",
       "       0.12  , 0.1225, 0.125 , 0.1275, 0.13  , 0.1325, 0.135 , 0.1375,\n",
       "       0.14  , 0.1425, 0.145 , 0.1475, 0.15  , 0.1525, 0.155 , 0.1575,\n",
       "       0.16  , 0.1625, 0.165 , 0.1675, 0.17  , 0.1725, 0.175 , 0.1775,\n",
       "       0.18  , 0.1825, 0.185 , 0.1875, 0.19  , 0.1925, 0.195 , 0.1975,\n",
       "       0.2   , 0.2025, 0.205 , 0.2075, 0.21  , 0.2125, 0.215 , 0.2175,\n",
       "       0.22  , 0.2225, 0.225 , 0.2275, 0.23  , 0.2325, 0.235 , 0.2375,\n",
       "       0.24  , 0.2425, 0.245 , 0.2475, 0.25  , 0.2525, 0.255 , 0.2575,\n",
       "       0.26  , 0.2625, 0.265 , 0.2675, 0.27  , 0.2725, 0.275 , 0.2775,\n",
       "       0.28  , 0.2825, 0.285 , 0.2875, 0.29  , 0.2925, 0.295 , 0.2975,\n",
       "       0.3   , 0.3025, 0.305 , 0.3075, 0.31  , 0.3125, 0.315 , 0.3175,\n",
       "       0.32  , 0.3225, 0.325 , 0.3275, 0.33  , 0.3325, 0.335 , 0.3375,\n",
       "       0.34  , 0.3425, 0.345 , 0.3475, 0.35  , 0.3525, 0.355 , 0.3575,\n",
       "       0.36  , 0.3625, 0.365 , 0.3675, 0.37  , 0.3725, 0.375 , 0.3775,\n",
       "       0.38  , 0.3825, 0.385 , 0.3875, 0.39  , 0.3925, 0.395 , 0.3975,\n",
       "       0.4   , 0.4025, 0.405 , 0.4075, 0.41  , 0.4125, 0.415 , 0.4175,\n",
       "       0.42  , 0.4225, 0.425 , 0.4275, 0.43  , 0.4325, 0.435 , 0.4375,\n",
       "       0.44  , 0.4425, 0.445 , 0.4475, 0.45  , 0.4525, 0.455 , 0.4575,\n",
       "       0.46  , 0.4625, 0.465 , 0.4675, 0.47  , 0.4725, 0.475 , 0.4775,\n",
       "       0.48  , 0.4825, 0.485 , 0.4875, 0.49  , 0.4925, 0.495 , 0.4975,\n",
       "       0.5   , 0.5025, 0.505 , 0.5075, 0.51  , 0.5125, 0.515 , 0.5175,\n",
       "       0.52  , 0.5225, 0.525 , 0.5275, 0.53  , 0.5325, 0.535 , 0.5375,\n",
       "       0.54  , 0.5425, 0.545 , 0.5475, 0.55  , 0.5525, 0.555 , 0.5575,\n",
       "       0.56  , 0.5625, 0.565 , 0.5675, 0.57  , 0.5725, 0.575 , 0.5775,\n",
       "       0.58  , 0.5825, 0.585 , 0.5875, 0.59  , 0.5925, 0.595 , 0.5975,\n",
       "       0.6   , 0.6025, 0.605 , 0.6075, 0.61  , 0.6125, 0.615 , 0.6175,\n",
       "       0.62  , 0.6225, 0.625 , 0.6275, 0.63  , 0.6325, 0.635 , 0.6375,\n",
       "       0.64  , 0.6425, 0.645 , 0.6475, 0.65  , 0.6525, 0.655 , 0.6575,\n",
       "       0.66  , 0.6625, 0.665 , 0.6675, 0.67  , 0.6725, 0.675 , 0.6775,\n",
       "       0.68  , 0.6825, 0.685 , 0.6875, 0.69  , 0.6925, 0.695 , 0.6975,\n",
       "       0.7   , 0.7025, 0.705 , 0.7075, 0.71  , 0.7125, 0.715 , 0.7175,\n",
       "       0.72  , 0.7225, 0.725 , 0.7275, 0.73  , 0.7325, 0.735 , 0.7375,\n",
       "       0.74  , 0.7425, 0.745 , 0.7475, 0.75  , 0.7525, 0.755 , 0.7575,\n",
       "       0.76  , 0.7625, 0.765 , 0.7675, 0.77  , 0.7725, 0.775 , 0.7775,\n",
       "       0.78  , 0.7825, 0.785 , 0.7875, 0.79  , 0.7925, 0.795 , 0.7975,\n",
       "       0.8   , 0.8025, 0.805 , 0.8075, 0.81  , 0.8125, 0.815 , 0.8175,\n",
       "       0.82  , 0.8225, 0.825 , 0.8275, 0.83  , 0.8325, 0.835 , 0.8375,\n",
       "       0.84  , 0.8425, 0.845 , 0.8475, 0.85  , 0.8525, 0.855 , 0.8575,\n",
       "       0.86  , 0.8625, 0.865 , 0.8675, 0.87  , 0.8725, 0.875 , 0.8775,\n",
       "       0.88  , 0.8825, 0.885 , 0.8875, 0.89  , 0.8925, 0.895 , 0.8975,\n",
       "       0.9   , 0.9025, 0.905 , 0.9075, 0.91  , 0.9125, 0.915 , 0.9175,\n",
       "       0.92  , 0.9225, 0.925 , 0.9275, 0.93  , 0.9325, 0.935 , 0.9375,\n",
       "       0.94  , 0.9425, 0.945 , 0.9475, 0.95  , 0.9525, 0.955 , 0.9575,\n",
       "       0.96  , 0.9625, 0.965 , 0.9675, 0.97  , 0.9725, 0.975 , 0.9775,\n",
       "       0.98  , 0.9825, 0.985 , 0.9875, 0.99  , 0.9925, 0.995 , 0.9975,\n",
       "       1.    ])"
      ]
     },
     "execution_count": 11,
     "metadata": {},
     "output_type": "execute_result"
    }
   ],
   "source": [
    "y"
   ]
  },
  {
   "cell_type": "code",
   "execution_count": 12,
   "id": "9638f013-eb71-44cd-92f3-0754bc8078fe",
   "metadata": {},
   "outputs": [],
   "source": [
    "# 边界条件\n",
    "T_top = 0\n",
    "T_left = 0\n",
    "T_right = 0\n",
    "T_bottom = 100\n",
    "\n",
    "# 迭代次数\n",
    "iterations = 100000\n",
    "\n",
    "# 设置边界条件\n",
    "T_1[0, :] = T_bottom\n",
    "T_1[-1, :] = T_top\n",
    "T_1[:, 0] = T_right\n",
    "T_1[:, -1] = T_left\n",
    "\n",
    "T_2[0, :] = T_bottom\n",
    "T_2[-1, :] = T_top\n",
    "T_2[:, 0] = T_right\n",
    "T_2[:, -1] = T_left"
   ]
  },
  {
   "cell_type": "code",
   "execution_count": 6,
   "id": "3cd67893-aa76-47f9-b3b2-9dab83ad1ebd",
   "metadata": {},
   "outputs": [
    {
     "data": {
      "text/plain": [
       "array([[0., 0., 0., ..., 0., 0., 0.],\n",
       "       [0., 0., 0., ..., 0., 0., 0.],\n",
       "       [0., 0., 0., ..., 0., 0., 0.],\n",
       "       ...,\n",
       "       [0., 0., 0., ..., 0., 0., 0.],\n",
       "       [0., 0., 0., ..., 0., 0., 0.],\n",
       "       [0., 0., 0., ..., 0., 0., 0.]], shape=(101, 201))"
      ]
     },
     "execution_count": 6,
     "metadata": {},
     "output_type": "execute_result"
    }
   ],
   "source": [
    "T_1[100:,:]"
   ]
  },
  {
   "cell_type": "code",
   "execution_count": 7,
   "id": "b2469d99-fe2c-4390-be70-2d798452479d",
   "metadata": {},
   "outputs": [
    {
     "data": {
      "text/plain": [
       "array([[0., 0., 0., ..., 0., 0., 0.],\n",
       "       [0., 0., 0., ..., 0., 0., 0.],\n",
       "       [0., 0., 0., ..., 0., 0., 0.],\n",
       "       ...,\n",
       "       [0., 0., 0., ..., 0., 0., 0.],\n",
       "       [0., 0., 0., ..., 0., 0., 0.],\n",
       "       [0., 0., 0., ..., 0., 0., 0.]], shape=(101, 201))"
      ]
     },
     "execution_count": 7,
     "metadata": {},
     "output_type": "execute_result"
    }
   ],
   "source": [
    "T_2[100:,:]"
   ]
  },
  {
   "cell_type": "code",
   "execution_count": 14,
   "id": "a2c86583-fff0-41b7-9934-5b8007183e4f",
   "metadata": {},
   "outputs": [],
   "source": [
    "# T_1[100:,80:121]=0\n",
    "# T_2[80:121,100:]=0"
   ]
  },
  {
   "cell_type": "code",
   "execution_count": 15,
   "id": "a91bf247-e6a0-444d-8ff0-b30f37924b7e",
   "metadata": {},
   "outputs": [],
   "source": [
    "# 缺陷区域掩码，True表示不更新（缺陷处）\n",
    "mask_1 = np.zeros_like(T_1, dtype=bool)\n",
    "mask_1[200:, 160:242] = True  # 纵向缺陷\n",
    "\n",
    "mask_2 = np.zeros_like(T_2, dtype=bool)\n",
    "mask_2[160:242, 200:] = True  # 横向缺陷"
   ]
  },
  {
   "cell_type": "code",
   "execution_count": 18,
   "id": "665161d5-fd64-4492-8127-3f84aefb5519",
   "metadata": {},
   "outputs": [
    {
     "name": "stderr",
     "output_type": "stream",
     "text": [
      "Iterating T_1: 100%|██████████████████████████████████████████████████████████| 100000/100000 [06:38<00:00, 250.71it/s]\n"
     ]
    }
   ],
   "source": [
    "for _ in tqdm(range(iterations), desc='Iterating T_1'):\n",
    "    T_old = T_1.copy()\n",
    "    T_new = 0.25 * (T_old[2:, 1:-1] + T_old[:-2, 1:-1] + T_old[1:-1, 2:] + T_old[1:-1, :-2])\n",
    "    mask_update = ~mask_1[1:-1, 1:-1]\n",
    "    T_1[1:-1, 1:-1][mask_update] = T_new[mask_update]"
   ]
  },
  {
   "cell_type": "code",
   "execution_count": 19,
   "id": "c6f27687-e1b4-499a-bb5f-b5c8b16b52f3",
   "metadata": {},
   "outputs": [
    {
     "name": "stderr",
     "output_type": "stream",
     "text": [
      "Iterating T_2: 100%|██████████████████████████████████████████████████████████| 100000/100000 [07:48<00:00, 213.63it/s]\n"
     ]
    }
   ],
   "source": [
    "# 迭代计算 T_2，带进度条和矢量化\n",
    "for _ in tqdm(range(iterations), desc='Iterating T_2'):\n",
    "    T_old = T_2.copy()\n",
    "    T_new = 0.25 * (T_old[2:, 1:-1] + T_old[:-2, 1:-1] + T_old[1:-1, 2:] + T_old[1:-1, :-2])\n",
    "    mask_update = ~mask_2[1:-1, 1:-1]\n",
    "    T_2[1:-1, 1:-1][mask_update] = T_new[mask_update]\n"
   ]
  },
  {
   "cell_type": "code",
   "execution_count": 20,
   "id": "58884a0f-fd42-401e-80b0-c910a30c964c",
   "metadata": {},
   "outputs": [
    {
     "name": "stdout",
     "output_type": "stream",
     "text": [
      "1.7796800497842593\n",
      "1.819637211584287\n"
     ]
    }
   ],
   "source": [
    "for i in range(1, 400):\n",
    "    q_1[i-1] = T_1[0, i] - T_1[1, i]\n",
    "    q_2[i-1] = T_2[0, i] - T_2[1, i]\n",
    "\n",
    "print(np.trapezoid(q_1, x_1))\n",
    "print(np.trapezoid(q_2, x_1))\n"
   ]
  },
  {
   "cell_type": "code",
   "execution_count": 21,
   "id": "36dd7cb5-a205-4ed6-927e-14d61756c4fe",
   "metadata": {},
   "outputs": [
    {
     "data": {
      "image/png": "[encoded data removed]",
      "text/plain": [
       "<Figure size 800x800 with 4 Axes>"
      ]
     },
     "metadata": {},
     "output_type": "display_data"
    }
   ],
   "source": [
    "#完成可视化\n",
    "fig=plt.figure(figsize=(8,8))\n",
    "ax1=fig.add_subplot(2,2,1)\n",
    "ax1.contourf(X,Y,T_1,50,cmap='jet')\n",
    "rect = Rectangle((0.4, 0.5), 0.2, 0.5, linewidth=1, edgecolor='white', facecolor='none')\n",
    "ax1.add_patch(rect)\n",
    "ax1.set_aspect('equal')\n",
    "ax1.set_title('vertical defeat')\n",
    "ax2=fig.add_subplot(2,2,2)\n",
    "ax2.contourf(X,Y,T_2,50,cmap='jet')\n",
    "rect2 = Rectangle((0.5,0.4), 0.5, 0.2, linewidth=1, edgecolor='white', facecolor='none')\n",
    "ax2.add_patch(rect2)\n",
    "ax2.set_aspect('equal')\n",
    "ax2.set_title('horizontal defeat')\n",
    "ax3=fig.add_subplot(2,2,3)\n",
    "ax3.plot(x_1,q_1)\n",
    "ax3.set_title('bottom temperature gradient 2')\n",
    "ax4=fig.add_subplot(2,2,4)\n",
    "ax4.plot(x_1,q_2)\n",
    "ax4.set_title('bottom temperature gradient 3')\n",
    "plt.show()"
   ]
  },
  {
   "cell_type": "code",
   "execution_count": null,
   "id": "eb3d3d51-0f10-4837-8624-37f72b6c93cb",
   "metadata": {},
   "outputs": [],
   "source": []
  }
 ],
 "metadata": {
  "kernelspec": {
   "display_name": "Python 3 (ipykernel)",
   "language": "python",
   "name": "python3"
  },
  "language_info": {
   "codemirror_mode": {
    "name": "ipython",
    "version": 3
   },
   "file_extension": ".py",
   "mimetype": "text/x-python",
   "name": "python",
   "nbconvert_exporter": "python",
   "pygments_lexer": "ipython3",
   "version": "3.13.2"
  }
 },
 "nbformat": 4,
 "nbformat_minor": 5
}
